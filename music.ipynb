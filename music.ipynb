{
 "cells": [
  {
   "cell_type": "code",
   "execution_count": 14,
   "id": "e7386144",
   "metadata": {},
   "outputs": [],
   "source": [
    "import nltk\n",
    "import pandas as pd\n",
    "import numpy as np\n",
    "from nltk.stem.porter import PorterStemmer\n",
    "from sklearn.feature_extraction.text import CountVectorizer\n",
    "from sklearn.metrics.pairwise import cosine_similarity\n"
   ]
  },
  {
   "cell_type": "code",
   "execution_count": 15,
   "id": "cffc36c1",
   "metadata": {},
   "outputs": [],
   "source": [
    "data = {\n",
    "    'Song Name': [\n",
    "        'Channa Mereya', 'Zinda', 'Love You Zindagi', 'Tum Hi Ho', 'Malang',\n",
    "        'Apna Time Aayega', 'Raabta', 'Kabira', 'Ilahi', 'Tera Yaar Hoon Main'\n",
    "    ],\n",
    "    'Artist': [\n",
    "        'Arijit Singh', 'Siddharth Mahadevan', 'Amit Trivedi', 'Arijit Singh', 'Ved Sharma',\n",
    "        'Ranveer Singh', 'Arijit Singh', 'Tochi Raina', 'Arijit Singh', 'Arijit Singh'\n",
    "    ],\n",
    "    'Mood Description': [\n",
    "        'heartbreak emotional love',\n",
    "        'motivational powerful struggle',\n",
    "        'happy optimistic fresh',\n",
    "        'romantic emotional longing',\n",
    "        'intense bold thrilling',\n",
    "        'rebel powerful inspiring',\n",
    "        'romantic dreamy magical',\n",
    "        'emotional nostalgic thoughtful',\n",
    "        'wanderlust adventure freedom',\n",
    "        'friendship emotional bond'\n",
    "    ]\n",
    "}\n",
    "\n",
    "\n",
    "df = pd.DataFrame(data)"
   ]
  },
  {
   "cell_type": "code",
   "execution_count": null,
   "id": "f3fa0aec",
   "metadata": {},
   "outputs": [],
   "source": [
    "stemmer = PorterStemmer()\n",
    "\n",
    "def preprocess(text):\n",
    "    words = nltk.word_tokenize(text.lower())\n",
    "    stemmed = [stemmer.stem(word) for word in words]\n",
    "    return ' '.join(stemmed)\n",
    "\n",
    "df['Processed Mood'] = df['Mood Description'].apply(preprocess)"
   ]
  },
  {
   "cell_type": "code",
   "execution_count": null,
   "id": "584241ca",
   "metadata": {},
   "outputs": [
    {
     "name": "stdout",
     "output_type": "stream",
     "text": [
      "[[0 0 0 0 1 0 0 0 0 1 0 0 0 1 0 0 0 0 0 0 0 0 0 0 0]\n",
      " [0 0 0 0 0 0 0 0 0 0 0 0 0 0 0 1 0 0 1 0 0 1 0 0 0]\n",
      " [0 0 0 0 0 0 1 0 1 0 0 0 0 0 0 0 0 1 0 0 0 0 0 0 0]\n",
      " [0 0 0 0 1 0 0 0 0 0 0 0 1 0 0 0 0 0 0 0 1 0 0 0 0]\n",
      " [0 1 0 0 0 0 0 0 0 0 0 1 0 0 0 0 0 0 0 0 0 0 0 1 0]\n",
      " [0 0 0 0 0 0 0 0 0 0 1 0 0 0 0 0 0 0 1 1 0 0 0 0 0]\n",
      " [0 0 0 1 0 0 0 0 0 0 0 0 0 0 1 0 0 0 0 0 1 0 0 0 0]\n",
      " [0 0 0 0 1 0 0 0 0 0 0 0 0 0 0 0 1 0 0 0 0 0 1 0 0]\n",
      " [1 0 0 0 0 1 0 0 0 0 0 0 0 0 0 0 0 0 0 0 0 0 0 0 1]\n",
      " [0 0 1 0 1 0 0 1 0 0 0 0 0 0 0 0 0 0 0 0 0 0 0 0 0]]\n"
     ]
    }
   ],
   "source": [
    "vectorizer = CountVectorizer()\n",
    "vectors = vectorizer.fit_transform(df['Processed Mood']).toarray()"
   ]
  },
  {
   "cell_type": "code",
   "execution_count": 18,
   "id": "e4cbf56e",
   "metadata": {},
   "outputs": [],
   "source": [
    "inverted_index = {}\n",
    "for idx, mood in enumerate(df['Processed Mood']):\n",
    "    for word in mood.split():\n",
    "        if word not in inverted_index:\n",
    "            inverted_index[word] = []\n",
    "        inverted_index[word].append(idx)"
   ]
  },
  {
   "cell_type": "code",
   "execution_count": null,
   "id": "46f1197e",
   "metadata": {},
   "outputs": [],
   "source": [
    "def recommend(user_input):\n",
    "    user_input_processed = preprocess(user_input)\n",
    "    user_vector = vectorizer.transform([user_input_processed]).toarray()\n",
    "    similarities = cosine_similarity(user_vector, vectors)[0]\n",
    "    top_indices = similarities.argsort()[-3:][::-1]\n",
    "\n",
    "    print(\"Recommended Songs:\") \n",
    "    for i in top_indices:\n",
    "        print(f\"{df.iloc[i]['Song Name']} by {df.iloc[i]['Artist']} (Score: {similarities[i]:.2f})\")\n"
   ]
  },
  {
   "cell_type": "code",
   "execution_count": 29,
   "id": "b7730cd2",
   "metadata": {},
   "outputs": [
    {
     "name": "stdout",
     "output_type": "stream",
     "text": [
      "Recommended Songs:\n",
      "Tera Yaar Hoon Main by Arijit Singh (Score: 0.58)\n",
      "Kabira by Tochi Raina (Score: 0.58)\n",
      "Channa Mereya by Arijit Singh (Score: 0.58)\n"
     ]
    }
   ],
   "source": [
    "user_mood = input(\"Enter your mood: \")\n",
    "recommend(user_mood)"
   ]
  },
  {
   "cell_type": "code",
   "execution_count": null,
   "id": "7e9a5e8f",
   "metadata": {},
   "outputs": [],
   "source": []
  }
 ],
 "metadata": {
  "kernelspec": {
   "display_name": "Python 3",
   "language": "python",
   "name": "python3"
  },
  "language_info": {
   "codemirror_mode": {
    "name": "ipython",
    "version": 3
   },
   "file_extension": ".py",
   "mimetype": "text/x-python",
   "name": "python",
   "nbconvert_exporter": "python",
   "pygments_lexer": "ipython3",
   "version": "3.13.1"
  }
 },
 "nbformat": 4,
 "nbformat_minor": 5
}
