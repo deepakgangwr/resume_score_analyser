{
 "cells": [
  {
   "cell_type": "code",
   "execution_count": 9,
   "id": "70ceb5ab",
   "metadata": {},
   "outputs": [
    {
     "name": "stdout",
     "output_type": "stream",
     "text": [
      "Defaulting to user installation because normal site-packages is not writeable\n",
      "Requirement already satisfied: pymupdf in c:\\users\\deepak\\appdata\\roaming\\python\\python313\\site-packages (1.25.5)\n",
      "Note: you may need to restart the kernel to use updated packages.\n"
     ]
    },
    {
     "name": "stderr",
     "output_type": "stream",
     "text": [
      "\n",
      "[notice] A new release of pip is available: 24.3.1 -> 25.0.1\n",
      "[notice] To update, run: python.exe -m pip install --upgrade pip\n"
     ]
    }
   ],
   "source": [
    "pip install pymupdf\n"
   ]
  },
  {
   "cell_type": "code",
   "execution_count": 17,
   "id": "a5e9ccd8",
   "metadata": {},
   "outputs": [
    {
     "name": "stdout",
     "output_type": "stream",
     "text": [
      "Defaulting to user installation because normal site-packages is not writeable\n",
      "Requirement already satisfied: nltk in c:\\users\\deepak\\appdata\\roaming\\python\\python313\\site-packages (3.9.1)\n",
      "Requirement already satisfied: click in c:\\users\\deepak\\appdata\\roaming\\python\\python313\\site-packages (from nltk) (8.1.8)\n",
      "Requirement already satisfied: joblib in c:\\users\\deepak\\appdata\\roaming\\python\\python313\\site-packages (from nltk) (1.4.2)\n",
      "Requirement already satisfied: regex>=2021.8.3 in c:\\users\\deepak\\appdata\\roaming\\python\\python313\\site-packages (from nltk) (2024.11.6)\n",
      "Requirement already satisfied: tqdm in c:\\users\\deepak\\appdata\\roaming\\python\\python313\\site-packages (from nltk) (4.67.1)\n",
      "Requirement already satisfied: colorama in c:\\users\\deepak\\appdata\\roaming\\python\\python313\\site-packages (from click->nltk) (0.4.6)\n"
     ]
    },
    {
     "name": "stderr",
     "output_type": "stream",
     "text": [
      "\n",
      "[notice] A new release of pip is available: 24.3.1 -> 25.0.1\n",
      "[notice] To update, run: python.exe -m pip install --upgrade pip\n"
     ]
    },
    {
     "name": "stdout",
     "output_type": "stream",
     "text": [
      "Defaulting to user installation because normal site-packages is not writeable\n",
      "Requirement already satisfied: scikit-learn in c:\\users\\deepak\\appdata\\roaming\\python\\python313\\site-packages (1.6.1)\n",
      "Requirement already satisfied: numpy>=1.19.5 in c:\\users\\deepak\\appdata\\roaming\\python\\python313\\site-packages (from scikit-learn) (2.2.4)\n",
      "Requirement already satisfied: scipy>=1.6.0 in c:\\users\\deepak\\appdata\\roaming\\python\\python313\\site-packages (from scikit-learn) (1.15.2)\n",
      "Requirement already satisfied: joblib>=1.2.0 in c:\\users\\deepak\\appdata\\roaming\\python\\python313\\site-packages (from scikit-learn) (1.4.2)\n",
      "Requirement already satisfied: threadpoolctl>=3.1.0 in c:\\users\\deepak\\appdata\\roaming\\python\\python313\\site-packages (from scikit-learn) (3.6.0)\n"
     ]
    },
    {
     "name": "stderr",
     "output_type": "stream",
     "text": [
      "\n",
      "[notice] A new release of pip is available: 24.3.1 -> 25.0.1\n",
      "[notice] To update, run: python.exe -m pip install --upgrade pip\n"
     ]
    },
    {
     "name": "stdout",
     "output_type": "stream",
     "text": [
      "Defaulting to user installation because normal site-packages is not writeable\n",
      "Requirement already satisfied: matplotlib in c:\\users\\deepak\\appdata\\roaming\\python\\python313\\site-packages (3.10.1)\n",
      "Requirement already satisfied: contourpy>=1.0.1 in c:\\users\\deepak\\appdata\\roaming\\python\\python313\\site-packages (from matplotlib) (1.3.2)\n",
      "Requirement already satisfied: cycler>=0.10 in c:\\users\\deepak\\appdata\\roaming\\python\\python313\\site-packages (from matplotlib) (0.12.1)\n",
      "Requirement already satisfied: fonttools>=4.22.0 in c:\\users\\deepak\\appdata\\roaming\\python\\python313\\site-packages (from matplotlib) (4.57.0)\n",
      "Requirement already satisfied: kiwisolver>=1.3.1 in c:\\users\\deepak\\appdata\\roaming\\python\\python313\\site-packages (from matplotlib) (1.4.8)\n",
      "Requirement already satisfied: numpy>=1.23 in c:\\users\\deepak\\appdata\\roaming\\python\\python313\\site-packages (from matplotlib) (2.2.4)\n",
      "Requirement already satisfied: packaging>=20.0 in c:\\users\\deepak\\appdata\\roaming\\python\\python313\\site-packages (from matplotlib) (24.2)\n",
      "Requirement already satisfied: pillow>=8 in c:\\users\\deepak\\appdata\\roaming\\python\\python313\\site-packages (from matplotlib) (11.2.1)\n",
      "Requirement already satisfied: pyparsing>=2.3.1 in c:\\users\\deepak\\appdata\\roaming\\python\\python313\\site-packages (from matplotlib) (3.2.3)\n",
      "Requirement already satisfied: python-dateutil>=2.7 in c:\\users\\deepak\\appdata\\roaming\\python\\python313\\site-packages (from matplotlib) (2.9.0.post0)\n",
      "Requirement already satisfied: six>=1.5 in c:\\users\\deepak\\appdata\\roaming\\python\\python313\\site-packages (from python-dateutil>=2.7->matplotlib) (1.17.0)\n"
     ]
    },
    {
     "name": "stderr",
     "output_type": "stream",
     "text": [
      "\n",
      "[notice] A new release of pip is available: 24.3.1 -> 25.0.1\n",
      "[notice] To update, run: python.exe -m pip install --upgrade pip\n"
     ]
    }
   ],
   "source": [
    "!pip install nltk\n",
    "!pip install scikit-learn\n",
    "!pip install matplotlib\n"
   ]
  },
  {
   "cell_type": "code",
   "execution_count": 18,
   "id": "2d4dcd01",
   "metadata": {},
   "outputs": [],
   "source": [
    "\n",
    "\n",
    "import fitz  # PyMuPDF\n",
    "import nltk\n",
    "from sklearn.feature_extraction.text import TfidfVectorizer\n",
    "from sklearn.metrics.pairwise import cosine_similarity\n",
    "import matplotlib.pyplot as plt  # Make sure this is imported\n",
    "\n"
   ]
  },
  {
   "cell_type": "code",
   "execution_count": 19,
   "id": "4cbe7444",
   "metadata": {},
   "outputs": [],
   "source": [
    "def extract_text_from_pdf(pdf_path):\n",
    "    doc = fitz.open(pdf_path)\n",
    "    text = \"\"\n",
    "    for page in doc:\n",
    "        text += page.get_text(\"text\")\n",
    "    return text"
   ]
  },
  {
   "cell_type": "code",
   "execution_count": 20,
   "id": "b5341c38",
   "metadata": {},
   "outputs": [],
   "source": [
    "# Step 2: Define a list of predefined skills (customize this as needed)\n",
    "predefined_skills = [\n",
    "    'Python', 'Java', 'C++', 'JavaScript', 'HTML', 'CSS', 'SQL', 'Machine Learning', 'Data Science', 'Django', 'Flask', 'React', 'Node.js', 'AWS', 'GCP'\n",
    "]\n",
    "\n",
    "# Step 3: Function to extract skills from resume text using NLP\n",
    "def extract_skills(resume_text, predefined_skills):\n",
    "    resume_text = resume_text.lower()\n",
    "    extracted_skills = [skill for skill in predefined_skills if skill.lower() in resume_text]\n",
    "    return extracted_skills\n"
   ]
  },
  {
   "cell_type": "code",
   "execution_count": 25,
   "id": "0fee4772",
   "metadata": {},
   "outputs": [
    {
     "name": "stdout",
     "output_type": "stream",
     "text": [
      "Resume Extracted Text: DEEPAK GANGWAR\n",
      "Ó +91 6398237345\n",
      "R deepakgangwar2003@gmail.com\n",
      "¯ LinkedIn\n",
      " Github\n",
      "/ Portfolio\n",
      "Education\n",
      "Indian Institute of Information Technology, Kota\n",
      "2022 - 2026\n",
      "B.Tech in Computer Science & Engineering\n",
      "7.67/10 CGPA\n",
      "Projects\n",
      "StudySphere: Online Learning Management System Website\n",
      "Github W\n",
      "• Developed a full-stack Learning Management System using JavaScript, React.js, MongoDB, Express.js, Node.js,\n",
      "Tailwind CSS, and Shadcn UI.\n",
      "• Configured Stripe for payment processing, simulating end-to-end flow for 5+ legal service types.\n",
      "• Designed a mobile-first, intuitive UI using Tailwind CSS, tested across 3+ device resolutions to ensure consistent\n",
      "experience on smaller screens.\n",
      "• Secured user access with JWT authentication and connected Stripe for 10+ end-to-end payment scenarios.\n",
      "Travel World: Full-Stack Tour and Travel Booking Platform\n",
      "Github W\n",
      "• Built a full-stack travel booking platform using JavaScript, React.js, MongoDB, Express.js, Node.js, and\n",
      "Bcrypt.js for secure password hashing.\n",
      "• Ad\n",
      "Extracted Skills from Resume: ['Python', 'Java', 'C++', 'JavaScript', 'HTML', 'CSS', 'SQL', 'React', 'Node.js']\n",
      "Resume Skill Match Score: 0.6023822244172539\n",
      "Final Resume Score (0-100): 60.238222441725384\n"
     ]
    },
    {
     "data": {
      "image/png": "[encoded data removed]",
      "text/plain": [
       "<Figure size 1200x600 with 2 Axes>"
      ]
     },
     "metadata": {},
     "output_type": "display_data"
    }
   ],
   "source": [
    "# Step 4: Function to compute a similarity score (based on skills match)\n",
    "def compute_similarity_score(extracted_skills, predefined_skills):\n",
    "    # Convert both skill sets into strings for comparison\n",
    "    resume_skills_str = ' '.join(extracted_skills)\n",
    "    predefined_skills_str = ' '.join(predefined_skills)\n",
    "\n",
    "    # Convert to TF-IDF representation and compute cosine similarity\n",
    "    vectorizer = TfidfVectorizer()\n",
    "    tfidf_matrix = vectorizer.fit_transform([resume_skills_str, predefined_skills_str])\n",
    "    similarity_matrix = cosine_similarity(tfidf_matrix[0:1], tfidf_matrix[1:2])\n",
    "    \n",
    "    return similarity_matrix[0][0]  # Return the similarity score\n",
    "\n",
    "# Step 5: Final Resume Score (scale 0-100)\n",
    "def final_score(similarity_score):\n",
    "    return similarity_score * 100\n",
    "\n",
    "# Function to plot the resume score comparison\n",
    "def plot_score(ideal_score, resume_score, matching_skills_count, total_skills_count):\n",
    "    plt.figure(figsize=(12, 6))\n",
    "\n",
    "    # Bar plot for comparison of ideal and resume score\n",
    "    plt.subplot(1, 2, 1)  # First subplot\n",
    "    plt.bar(['Ideal Score (80)', 'Resume Score'], [ideal_score, resume_score], color=['green', 'blue'])\n",
    "    plt.ylim(0, 100)\n",
    "    plt.ylabel('Score')\n",
    "    plt.title('Resume Score Comparison')\n",
    "\n",
    "    # Bar plot for skill match analysis\n",
    "    plt.subplot(1, 2, 2)  # Second subplot\n",
    "    plt.bar(['Matching Skills', 'Total Skills'], [matching_skills_count, total_skills_count], color=['purple', 'orange'])\n",
    "    plt.ylim(0, total_skills_count)\n",
    "    plt.ylabel('Skills Count')\n",
    "    plt.title(f'Skill Match Analysis (Matched: {matching_skills_count}/{total_skills_count})')\n",
    "\n",
    "    plt.tight_layout()\n",
    "    plt.show()\n",
    "\n",
    "# Step 6: Taking input PDF and calculating score\n",
    "pdf_path = input(\"Enter the path to the resume PDF: \")\n",
    "pdf_path = pdf_path.strip().replace(\"\\\\\", \"/\")  # Handle Windows paths\n",
    "\n",
    "resume_text = extract_text_from_pdf(pdf_path)\n",
    "print(\"Resume Extracted Text:\", resume_text[:1000])  # Print first 1000 characters\n",
    "\n",
    "extracted_skills = extract_skills(resume_text, predefined_skills)\n",
    "print(\"Extracted Skills from Resume:\", extracted_skills)\n",
    "\n",
    "# Count the number of matched skills\n",
    "matching_skills_count = len(extracted_skills)\n",
    "total_skills_count = len(predefined_skills)\n",
    "\n",
    "similarity_score = compute_similarity_score(extracted_skills, predefined_skills)\n",
    "print(\"Resume Skill Match Score:\", similarity_score)\n",
    "\n",
    "score = final_score(similarity_score)\n",
    "print(\"Final Resume Score (0-100):\", score)\n",
    "\n",
    "# Plot the result with enhanced graph\n",
    "ideal_score = 80\n",
    "plot_score(ideal_score, score, matching_skills_count, total_skills_count)\n"
   ]
  }
 ],
 "metadata": {
  "kernelspec": {
   "display_name": "Python 3",
   "language": "python",
   "name": "python3"
  },
  "language_info": {
   "codemirror_mode": {
    "name": "ipython",
    "version": 3
   },
   "file_extension": ".py",
   "mimetype": "text/x-python",
   "name": "python",
   "nbconvert_exporter": "python",
   "pygments_lexer": "ipython3",
   "version": "3.13.1"
  }
 },
 "nbformat": 4,
 "nbformat_minor": 5
}
